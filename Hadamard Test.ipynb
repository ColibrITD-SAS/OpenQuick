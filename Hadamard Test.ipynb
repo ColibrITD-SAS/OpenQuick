{
 "cells": [
  {
   "attachments": {},
   "cell_type": "markdown",
   "id": "34a0e500",
   "metadata": {},
   "source": [
    "## An implementation of the Hadamard test in qiskit\n",
    "\n",
    "This notebook contains a qiskit implementation of the Hadamard test. Please see the following article for further information: ."
   ]
  },
  {
   "cell_type": "code",
   "execution_count": 127,
   "id": "b2da93e9",
   "metadata": {},
   "outputs": [],
   "source": [
    "# Important packages:\n",
    "from qiskit import QuantumRegister, ClassicalRegister, QuantumCircuit\n",
    "from qiskit import execute, Aer\n",
    "import numpy as np\n",
    "from qiskit.tools.visualization import circuit_drawer"
   ]
  },
  {
   "cell_type": "code",
   "execution_count": 128,
   "id": "1447d893",
   "metadata": {},
   "outputs": [
    {
     "data": {
      "text/plain": [
       "{'qiskit-terra': '0.23.3', 'qiskit-aer': '0.12.0', 'qiskit-ignis': None, 'qiskit-ibmq-provider': '0.20.2', 'qiskit': '0.42.1', 'qiskit-nature': None, 'qiskit-finance': None, 'qiskit-optimization': None, 'qiskit-machine-learning': None}"
      ]
     },
     "execution_count": 128,
     "metadata": {},
     "output_type": "execute_result"
    }
   ],
   "source": [
    "import qiskit\n",
    "qiskit.__qiskit_version__\n",
    "\n",
    "# Here's the used in the article.\n",
    "# {'qiskit-terra': '0.23.3', 'qiskit-aer': '0.12.0', 'qiskit-ignis': None, 'qiskit-ibmq-provider': '0.20.2', 'qiskit': '0.42.1', 'qiskit-nature': None, 'qiskit-finance': None, 'qiskit-optimization': None, 'qiskit-machine-learning': None}"
   ]
  },
  {
   "cell_type": "code",
   "execution_count": 129,
   "id": "3f14614a",
   "metadata": {},
   "outputs": [],
   "source": [
    "def build_circ(_circuit, _register, _params, _n_qubits, _barrier = False):\n",
    "    \"\"\"\n",
    "    Implements a parametrized quantum circuit in the _register chosen.\n",
    "    \"\"\"\n",
    "\n",
    "    for index in range(_n_qubits):\n",
    "        _circuit.h(index)\n",
    "        _circuit.rx(_params[index], _register[index])\n",
    "\n",
    "    # the CNOT Layer\n",
    "    for k in range(_n_qubits - 1):\n",
    "        _circuit.cnot(_register[k], _register[k+1])\n",
    "\n",
    "    if _barrier:\n",
    "        _circuit.barrier()\n",
    "\n",
    "    return _circuit"
   ]
  },
  {
   "cell_type": "code",
   "execution_count": 130,
   "id": "3ca725bf",
   "metadata": {},
   "outputs": [
    {
     "data": {
      "image/png": "[encoded data removed]",
      "text/plain": [
       "<Figure size 510.814x284.278 with 1 Axes>"
      ]
     },
     "execution_count": 130,
     "metadata": {},
     "output_type": "execute_result"
    }
   ],
   "source": [
    "nqubits = 3\n",
    "nb_params = nqubits\n",
    "\n",
    "q = QuantumRegister(nqubits, 'qubit')\n",
    "circ_psi = QuantumCircuit(q)\n",
    "\n",
    "params_psi = [el for el in range(nb_params)]\n",
    "\n",
    "circ_psi = build_circ(circ_psi, q, params_psi, nqubits, _barrier = False)\n",
    "\n",
    "circuit_drawer(circ_psi, output='mpl', style={'backgroundcolor': '#EEEEEE'})\n"
   ]
  },
  {
   "cell_type": "code",
   "execution_count": 131,
   "id": "961a3161",
   "metadata": {},
   "outputs": [
    {
     "data": {
      "image/png": "[encoded data removed]",
      "text/plain": [
       "<Figure size 510.814x284.278 with 1 Axes>"
      ]
     },
     "execution_count": 131,
     "metadata": {},
     "output_type": "execute_result"
    }
   ],
   "source": [
    "p = QuantumRegister(nqubits, 'qubit')\n",
    "circ_phi = QuantumCircuit(p)\n",
    "\n",
    "params_phi = [el for el in range( nb_params, 2*nb_params)]\n",
    "\n",
    "circ_phi = build_circ(circ_phi, q, params_phi, nqubits, _barrier = False)\n",
    "\n",
    "circuit_drawer(circ_phi, output='mpl', style={'backgroundcolor': '#EEEEEE'})"
   ]
  },
  {
   "cell_type": "code",
   "execution_count": 132,
   "id": "02119ebe",
   "metadata": {},
   "outputs": [],
   "source": [
    "def sigma_z(_circuit):\n",
    "    \"\"\"\n",
    "    Takes in a circuit with an ancilla;\n",
    "    returns the <sigma_z> of the measurements on the ancilla alone.\n",
    "    \"\"\"\n",
    "    circuit_copy = _circuit.copy()\n",
    "    c_reg = ClassicalRegister(1, \"c_bit\")\n",
    "    circuit_copy.add_register(c_reg)\n",
    "\n",
    "    circuit_copy.measure(0, c_reg[0])\n",
    "    nb_shots = 10000\n",
    "\n",
    "    simulator = Aer.get_backend(\"qasm_simulator\")\n",
    "    job = execute(circuit_copy, backend=simulator, shots = nb_shots)\n",
    "    result = job.result()\n",
    "    counts = result.get_counts()\n",
    "\n",
    "    return (counts['0'] - counts['1'])/nb_shots"
   ]
  },
  {
   "cell_type": "code",
   "execution_count": 133,
   "id": "f248ef07",
   "metadata": {},
   "outputs": [
    {
     "data": {
      "text/html": [
       "<pre style=\"word-wrap: normal;white-space: pre;background: #fff0;line-height: 1.1;font-family: &quot;Courier New&quot;,Courier,monospace\">         ┌───┐┌───────┐          ┌──────────────────┐\n",
       "qubit_0: ┤ H ├┤ Rx(0) ├──■───────┤0                 ├\n",
       "         ├───┤├───────┤┌─┴─┐     │                  │\n",
       "qubit_1: ┤ H ├┤ Rx(1) ├┤ X ├──■──┤1 circuit-2338_dg ├\n",
       "         ├───┤├───────┤└───┘┌─┴─┐│                  │\n",
       "qubit_2: ┤ H ├┤ Rx(2) ├─────┤ X ├┤2                 ├\n",
       "         └───┘└───────┘     └───┘└──────────────────┘</pre>"
      ],
      "text/plain": [
       "         ┌───┐┌───────┐          ┌──────────────────┐\n",
       "qubit_0: ┤ H ├┤ Rx(0) ├──■───────┤0                 ├\n",
       "         ├───┤├───────┤┌─┴─┐     │                  │\n",
       "qubit_1: ┤ H ├┤ Rx(1) ├┤ X ├──■──┤1 circuit-2338_dg ├\n",
       "         ├───┤├───────┤└───┘┌─┴─┐│                  │\n",
       "qubit_2: ┤ H ├┤ Rx(2) ├─────┤ X ├┤2                 ├\n",
       "         └───┘└───────┘     └───┘└──────────────────┘"
      ]
     },
     "execution_count": 133,
     "metadata": {},
     "output_type": "execute_result"
    }
   ],
   "source": [
    " # Get U_dagger_phi\n",
    "\n",
    "U_phi_dagger = circ_phi.to_gate(label = \"U_phi^dagger\").inverse()\n",
    "definition = [q[index] for index in range(nqubits)]\n",
    "U_circ = circ_psi.copy()\n",
    "U_circ.append(U_phi_dagger, definition)\n",
    "U_circ.draw()\n",
    "\n",
    "\n",
    "\n",
    "# V_circ = QuantumCircuit(_n_qubits)\n",
    "#     V_circ.prepare_state(normalized_components)\n",
    "#     V_gate = (V_circ).to_gate(label = \"V_x\").control(1)\n",
    "\n",
    "#     definition = [anc[0]] + [potential[index] for index in range(_n_qubits)]\n",
    "#     circ.append(V_gate, definition)"
   ]
  },
  {
   "cell_type": "code",
   "execution_count": 134,
   "id": "aa97a5c0",
   "metadata": {},
   "outputs": [
    {
     "data": {
      "image/png": "[encoded data removed]",
      "text/plain": [
       "<Figure size 428.79x367.889 with 1 Axes>"
      ]
     },
     "execution_count": 134,
     "metadata": {},
     "output_type": "execute_result"
    }
   ],
   "source": [
    "U_controlled_gate = (U_circ.to_gate(label = \"U\")).control(1)\n",
    "\n",
    "anc = QuantumRegister(1, 'ancilla')\n",
    "q = QuantumRegister(nqubits, 'qubit')\n",
    "circ_Hadamard = QuantumCircuit(anc, q)\n",
    "definition = [anc[0]] + [q[index] for index in range(nqubits)]\n",
    "\n",
    "evaluate_complex_part = False\n",
    "\n",
    "circ_Hadamard.h(anc[0])\n",
    "if evaluate_complex_part:\n",
    "    circ_Hadamard.sdg(anc[0])\n",
    "\n",
    "circ_Hadamard.append(U_controlled_gate, definition)\n",
    "circ_Hadamard.h(anc[0])\n",
    "circuit_drawer(circ_Hadamard, output='mpl', style={'backgroundcolor': '#EEEEEE'})"
   ]
  },
  {
   "cell_type": "code",
   "execution_count": 135,
   "id": "7bde2bef",
   "metadata": {},
   "outputs": [
    {
     "data": {
      "text/plain": [
       "-0.1956"
      ]
     },
     "execution_count": 135,
     "metadata": {},
     "output_type": "execute_result"
    }
   ],
   "source": [
    "avg_Z = sigma_z(circ_Hadamard)\n",
    "avg_Z"
   ]
  },
  {
   "cell_type": "code",
   "execution_count": 136,
   "id": "328aa626",
   "metadata": {},
   "outputs": [
    {
     "name": "stdout",
     "output_type": "stream",
     "text": [
      "[0.02500938-0.35266773j 0.02500938-0.35266773j 0.02500938-0.35266773j\n",
      " 0.02500938-0.35266773j 0.02500938-0.35266773j 0.02500938-0.35266773j\n",
      " 0.02500938-0.35266773j 0.02500938-0.35266773j]\n"
     ]
    }
   ],
   "source": [
    "#ACTUAL OVERLAP\n",
    "\n",
    "simulator = Aer.get_backend('aer_simulator')\n",
    "circ_psi.save_statevector()\n",
    "job = execute(circ_psi, simulator)\n",
    "result = job.result()\n",
    "psi_state = result.get_statevector()\n",
    "psi_vector = psi_state.data\n",
    "print(psi_vector)\n"
   ]
  },
  {
   "cell_type": "code",
   "execution_count": 137,
   "id": "e371bde6",
   "metadata": {},
   "outputs": [
    {
     "name": "stdout",
     "output_type": "stream",
     "text": [
      "[0.33947146+0.0987883j 0.33947146+0.0987883j 0.33947146+0.0987883j\n",
      " 0.33947146+0.0987883j 0.33947146+0.0987883j 0.33947146+0.0987883j\n",
      " 0.33947146+0.0987883j 0.33947146+0.0987883j]\n"
     ]
    }
   ],
   "source": [
    "circ_phi.save_statevector()\n",
    "job = execute(circ_phi, simulator)\n",
    "result = job.result()\n",
    "phi_state = result.get_statevector()\n",
    "phi_vector = phi_state.data\n",
    "print(phi_vector)"
   ]
  },
  {
   "cell_type": "code",
   "execution_count": 138,
   "id": "df824b61",
   "metadata": {},
   "outputs": [
    {
     "data": {
      "text/plain": [
       "(-0.21079579943077972-0.977530117665097j)"
      ]
     },
     "execution_count": 138,
     "metadata": {},
     "output_type": "execute_result"
    }
   ],
   "source": [
    "phi_vector_dagger = phi_state.conjugate()\n",
    "overlap = np.dot(phi_vector_dagger, psi_vector)\n",
    "overlap"
   ]
  },
  {
   "cell_type": "code",
   "execution_count": 139,
   "id": "1939f39c",
   "metadata": {},
   "outputs": [
    {
     "name": "stdout",
     "output_type": "stream",
     "text": [
      "Over 100 repetitions, the error was of:  3.421400256667406 %\n"
     ]
    }
   ],
   "source": [
    "def avg_error(nb_repetitions):\n",
    "    results = []\n",
    "    for run in range(nb_repetitions):\n",
    "        results.append(sigma_z(circ_Hadamard))\n",
    "\n",
    "    errors = [abs( (result - overlap.real )/overlap.real ) for result in results]\n",
    "\n",
    "    return sum(errors)/len(errors)\n",
    "\n",
    "\n",
    "print(\"Over 100 repetitions, the error was of: \",avg_error(100)*100,\"%\")"
   ]
  },
  {
   "cell_type": "code",
   "execution_count": null,
   "id": "7ee7064b",
   "metadata": {},
   "outputs": [],
   "source": []
  }
 ],
 "metadata": {
  "kernelspec": {
   "display_name": "Python 3 (ipykernel)",
   "language": "python",
   "name": "python3"
  },
  "language_info": {
   "codemirror_mode": {
    "name": "ipython",
    "version": 3
   },
   "file_extension": ".py",
   "mimetype": "text/x-python",
   "name": "python",
   "nbconvert_exporter": "python",
   "pygments_lexer": "ipython3",
   "version": "3.8.16"
  }
 },
 "nbformat": 4,
 "nbformat_minor": 5
}
