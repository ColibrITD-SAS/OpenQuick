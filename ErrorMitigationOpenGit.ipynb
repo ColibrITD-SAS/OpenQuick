{
 "cells": [
  {
   "cell_type": "code",
   "execution_count": 1,
   "id": "0c2d5342",
   "metadata": {},
   "outputs": [
    {
     "name": "stdout",
     "output_type": "stream",
     "text": [
      "T  : |0|1|\n",
      "          \n",
      "q0 : -H-C-\n",
      "        | \n",
      "q1 : ---X-\n",
      "\n",
      "T  : |0|1|\n"
     ]
    }
   ],
   "source": [
    "################################################# mitiq functions\n",
    "from mitiq import zne\n",
    "from mitiq.zne import mitigate_executor\n",
    "from mitiq.zne.inference import RichardsonFactory\n",
    "################################################# braket functions\n",
    "import braket\n",
    "from braket.devices import LocalSimulator\n",
    "from braket.circuits import Circuit, Noise, Observable\n",
    "################################################# other packages\n",
    "import numpy as np\n",
    "\n",
    "################################################# ideal density matrix |ψ⟩⟨ψ|\n",
    "def density_matrix_pure(state_vector: np.ndarray) -> np.ndarray:\n",
    "    return np.outer(state_vector, np.transpose(np.conjugate(state_vector)))\n",
    "bell_state = np.array([1/np.sqrt(2),0,0,1/np.sqrt(2)])\n",
    "ideal_target_bell = density_matrix_pure(bell_state)\n",
    "\n",
    "################################################# circuit for Bell state\n",
    "circuit = Circuit()\n",
    "circuit.h(0).cnot(0,1)\n",
    "print(circuit)"
   ]
  },
  {
   "cell_type": "code",
   "execution_count": 3,
   "id": "37977a4e",
   "metadata": {},
   "outputs": [],
   "source": [
    "def noiseless_executor(circ: Circuit) -> float:\n",
    "    device = LocalSimulator('braket_dm') \n",
    "    circ.expectation(observable=Observable.Hermitian(matrix=ideal_target_bell), target=range(2))\n",
    "    task = device.run(circ)\n",
    "    result = task.result()\n",
    "    return result.values\n",
    "\n",
    "def executor_with_noise(circ: Circuit) -> float:\n",
    "    noise = Noise.Depolarizing(probability=0.04)\n",
    "    circ.apply_gate_noise(noise)\n",
    "    return noiseless_executor(circ)\n",
    "\n",
    "# noise_fidelity = np.sqrt(executor_with_noise(circuit))\n",
    "# print(noise_fidelity)"
   ]
  },
  {
   "cell_type": "code",
   "execution_count": 4,
   "id": "2b07cd83",
   "metadata": {},
   "outputs": [
    {
     "name": "stderr",
     "output_type": "stream",
     "text": [
      "C:\\Users\\nadim\\anaconda3\\envs\\env_mitiq\\Lib\\site-packages\\mitiq\\zne\\inference.py:97: UserWarning: The input circuit is very short. This may reduce the accuracy of noise scaling.\n",
      "  warnings.warn(\n"
     ]
    },
    {
     "name": "stdout",
     "output_type": "stream",
     "text": [
      "0.9915175318851517\n"
     ]
    }
   ],
   "source": [
    "fac = RichardsonFactory(scale_factors=[1, 3, 5])\n",
    "mitigated_executor = mitigate_executor(executor_with_noise, factory=fac)\n",
    "mitigated_fidelity = np.sqrt(mitigated_executor(circuit))\n",
    "print(mitigated_fidelity)"
   ]
  },
  {
   "cell_type": "code",
   "execution_count": 7,
   "id": "f791597c",
   "metadata": {},
   "outputs": [
    {
     "data": {
      "text/plain": [
       "<qiskit.circuit.instructionset.InstructionSet at 0x1bd6a167bb0>"
      ]
     },
     "execution_count": 7,
     "metadata": {},
     "output_type": "execute_result"
    }
   ],
   "source": [
    "################################################# qiskit functions\n",
    "from qiskit import QuantumCircuit\n",
    "from qiskit.quantum_info import SparsePauliOp\n",
    "from qiskit_ibm_runtime import QiskitRuntimeService, Session, Options, Estimator\n",
    "\n",
    "################################################# ideal density matrix |ψ⟩⟨ψ|\n",
    "observable = SparsePauliOp(\"XX\", coeffs = 1/4)+SparsePauliOp(\"YY\", coeffs = -1/4)+ SparsePauliOp(\"ZZ\", coeffs = 1/4)+SparsePauliOp(\"II\", coeffs = 1/4)\n",
    "\n",
    "################################################# circuit for Bell state\n",
    "circuit = QuantumCircuit(2) \n",
    "circuit.h(0)\n",
    "circuit.cx(0,1)"
   ]
  },
  {
   "cell_type": "code",
   "execution_count": null,
   "id": "ef117b86",
   "metadata": {},
   "outputs": [],
   "source": [
    "backend = \"ibmq_manila\" # you need your IBM quantum account to use this! Have a look here https://quantum-computing.ibm.com/\n",
    "service = QiskitRuntimeService()\n",
    "\n",
    "with Session(service=service, backend=backend) as session:\n",
    "    options = Options()\n",
    "    options.resilience_level = 2\n",
    "    est = Estimator(session=session, options=options)\n",
    "    job = est.run(circuit, observable)\n",
    "\n",
    "result = job.result()\n",
    "print(f\"  > Expectation value: {result.values[0]}\")"
   ]
  },
  {
   "cell_type": "code",
   "execution_count": null,
   "id": "497f47e7",
   "metadata": {},
   "outputs": [],
   "source": [
    "backend = \"ibm_lagos\" # you need your IBM quantum account to use this! Have a look here https://quantum-computing.ibm.com/\n",
    "service = QiskitRuntimeService()\n",
    "\n",
    "with Session(service=service, backend=backend) as session:\n",
    "    options = Options()\n",
    "    options.resilience_level = 2\n",
    "    est = Estimator(session=session, options=options)\n",
    "    job = est.run(circuit, observable)\n",
    "\n",
    "result = job.result()\n",
    "print(f\"  > Expectation value: {result.values[0]}\")"
   ]
  },
  {
   "cell_type": "code",
   "execution_count": null,
   "id": "212d132c",
   "metadata": {},
   "outputs": [],
   "source": []
  }
 ],
 "metadata": {
  "kernelspec": {
   "display_name": "Python 3 (ipykernel)",
   "language": "python",
   "name": "python3"
  },
  "language_info": {
   "codemirror_mode": {
    "name": "ipython",
    "version": 3
   },
   "file_extension": ".py",
   "mimetype": "text/x-python",
   "name": "python",
   "nbconvert_exporter": "python",
   "pygments_lexer": "ipython3",
   "version": "3.11.3"
  }
 },
 "nbformat": 4,
 "nbformat_minor": 5
}
